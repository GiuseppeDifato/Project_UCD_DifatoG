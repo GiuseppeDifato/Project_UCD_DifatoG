{
 "cells": [
  {
   "cell_type": "code",
   "execution_count": 5,
   "metadata": {},
   "outputs": [],
   "source": [
    "import urllib as u\n",
    "from urllib.request import urlopen\n",
    "import json\n",
    "import pandas as pd\n",
    "import numpy as np\n",
    "from tqdm import tqdm\n",
    "\n",
    "api_key='64d94994afb9689c49b660ebe9dee39c'"
   ]
  },
  {
   "cell_type": "code",
   "execution_count": 6,
   "metadata": {},
   "outputs": [],
   "source": [
    "# Function to read in json data from FMP\n",
    "def get_json_data(url):\n",
    "    '''\n",
    "    Scrape data (which must be json format) from given url\n",
    "    Input: url to financialmodelingprep API\n",
    "    Output: json file\n",
    "    '''\n",
    "    response = urlopen(url)\n",
    "    dat = response.read().decode('utf-8')\n",
    "    return json.loads(dat)"
   ]
  },
  {
   "cell_type": "code",
   "execution_count": 3,
   "metadata": {},
   "outputs": [],
   "source": [
    "# Function to get sector of a Stock from its profile json file\n",
    "def find_sector(json):\n",
    "    \n",
    "    for k, v in a.items():\n",
    "        if k == 'symbol':\n",
    "            symbol=v\n",
    "\n",
    "    for k, v in a.items():\n",
    "        if k == 'profile':\n",
    "            profile=v\n",
    "\n",
    "    for k, v in profile.items():\n",
    "        if k == 'sector':\n",
    "            sector=v\n",
    "    return(symbol, sector)"
   ]
  },
  {
   "cell_type": "code",
   "execution_count": 13,
   "metadata": {},
   "outputs": [],
   "source": [
    "# Function to get Year 2019 Financial Indicators from json file\n",
    "def find_fin_indicators(json, indicator):\n",
    "    cat = ['financials','growth']\n",
    "    \n",
    "    for k, v in json.items():\n",
    "        if k == 'symbol':\n",
    "            symbol=v\n",
    "\n",
    "    for k, v in json.items():\n",
    "        if k in cat:\n",
    "            category = v\n",
    "\n",
    "    indicators_2019 = [[(k,v) for k,v in d.items()] for d in category if d['date'][:4] == '2019'] # Generator creates a list of lists\n",
    "    indicators_2019_list = [item for sublist in indicators_2019 for item in sublist] # Creating a flat list\n",
    "\n",
    "    a = []\n",
    "\n",
    "    for tup in (x for x in indicators_2019_list if x[0] in indicator):\n",
    "        a.append((symbol,) + tup)\n",
    "    return a"
   ]
  },
  {
   "cell_type": "code",
   "execution_count": 94,
   "metadata": {},
   "outputs": [],
   "source": [
    "# Function to get Year 2019 Ratios from json file\n",
    "def find_ratios_indicators(json, indicator):\n",
    "    global symbol, ratios\n",
    "    \n",
    "    for k in json.items():\n",
    "        if k == 'symbol':\n",
    "            symbol = k\n",
    "    \n",
    "    for k in json.items():\n",
    "        if k == 'ratios':\n",
    "            ratios = k\n",
    "            \n",
    "    ratios_2019 = [d for d in ratios if d['date'][:4] == '2019']\n",
    "    \n",
    "    unpack1 = ratios_2019[0]['investmentValuationRatios']\n",
    "    unpack2 = ratios_2019[0]['profitabilityIndicatorRatios']\n",
    "    unpack3 = ratios_2019[0]['operatingPerformanceRatios']\n",
    "    unpack4 = ratios_2019[0]['liquidityMeasurementRatios']\n",
    "    unpack5 = ratios_2019[0]['debtRatios']\n",
    "    unpack6 = ratios_2019[0]['cashFlowIndicatorRatios']\n",
    "    \n",
    "    unpack = unpack1\n",
    "    unpack.update(unpack2)\n",
    "    unpack.update(unpack3)\n",
    "    unpack.update(unpack4)\n",
    "    unpack.update(unpack5)\n",
    "    unpack.update(unpack6)\n",
    "    \n",
    "    full_set = []\n",
    "    reduced_set =[]\n",
    "\n",
    "    for row in unpack.items():\n",
    "            full_set.append(row)\n",
    "    \n",
    "    for tup in (x for x in full_set if x[0] in indicator):\n",
    "        reduced_set.append((symbol,) +tup)\n",
    "    \n",
    "    return reduced_set"
   ]
  },
  {
   "cell_type": "code",
   "execution_count": null,
   "metadata": {},
   "outputs": [],
   "source": [
    "# Full list of available stocks from FMP\n",
    "url = 'https://financialmodelingprep.com/api/v3/stock/list?apikey=' + api_key\n",
    "ticks_json = get_json_data(url)\n",
    "\n",
    "stocks = pd.DataFrame(ticks_json)\n",
    "stocks = stocks[['symbol','name','exchange']]\n",
    "stocks = stocks.dropna(how='any',subset=['symbol','name','exchange'])  "
   ]
  },
  {
   "cell_type": "code",
   "execution_count": null,
   "metadata": {},
   "outputs": [],
   "source": [
    "# Limit the analysis to stocks of the New York Stock Exchange\n",
    "stocks_nyse = stocks[(stocks['exchange'] == 'New York Stock Exchange')]\n",
    "stocks_nyse = stocks_nyse.reset_index()\n",
    "tickers_nyse = stocks_nyse['symbol'].tolist()"
   ]
  },
  {
   "cell_type": "code",
   "execution_count": null,
   "metadata": {},
   "outputs": [],
   "source": [
    "# Get sectors from company profiles\n",
    "tickers_nyse_sector = []\n",
    "\n",
    "for tick in tqdm(tickers_nyse):\n",
    "    url = 'https://financialmodelingprep.com/api/v3/company/profile/' + tick + '?apikey=' + api_key \n",
    "    a = get_json_data(url)\n",
    "    tickers_nyse_sector.append(find_sector(a))"
   ]
  },
  {
   "cell_type": "code",
   "execution_count": null,
   "metadata": {},
   "outputs": [],
   "source": [
    "tickers_nyse_sector = pd.DataFrame(tickers_nyse_sector)\n",
    "tickers_nyse_sector.columns = ['symbol', 'sector']\n",
    "\n",
    "stocks_nyse = stocks_nyse.merge(tickers_nyse_sector)\n",
    "\n",
    "del stocks_nyse['index','exchange']"
   ]
  },
  {
   "cell_type": "code",
   "execution_count": 4,
   "metadata": {},
   "outputs": [],
   "source": [
    "# Load financial indicators from the provided .txt file\n",
    "indicators = []\n",
    "filename = 'indicators.txt'\n",
    "with open(filename, 'r') as f:\n",
    "    for line in f:\n",
    "        indicators.append(line.strip('\\n'))"
   ]
  },
  {
   "cell_type": "code",
   "execution_count": 14,
   "metadata": {},
   "outputs": [
    {
     "name": "stderr",
     "output_type": "stream",
     "text": [
      "100%|██████████| 2/2 [00:06<00:00,  3.10s/it]\n"
     ]
    }
   ],
   "source": [
    "# Get Financials Indicators\n",
    "inc_statement_indicators = []\n",
    "cash_flow_indicators = []\n",
    "bs_indicators = []\n",
    "fs_growth_indicators = []\n",
    "\n",
    "for tick in tqdm(tickers_nyse):\n",
    "    try:\n",
    "        url0 = 'https://financialmodelingprep.com/api/v3/financials/income-statement/' + tick + '?apikey=' + api_key\n",
    "        url1 = 'https://financialmodelingprep.com/api/v3/financials/cash-flow-statement/' + tick + '?apikey=' + api_key\n",
    "        url2 = 'https://financialmodelingprep.com/api/v3/financials/balance-sheet-statement/' + tick + '?apikey=' + api_key\n",
    "        url3 = 'https://financialmodelingprep.com/api/v3/financial-statement-growth/' + tick + '?apikey=' + api_key\n",
    "\n",
    "        a0 = get_json_data(url0)\n",
    "        a1 = get_json_data(url1)\n",
    "        a2 = get_json_data(url2)\n",
    "        a3 = get_json_data(url3)\n",
    "    except:\n",
    "        pass\n",
    "    \n",
    "    inc_statement_indicators.append(find_fin_indicators(a0,indicators))\n",
    "    cash_flow_indicators.append(find_fin_indicators(a1,indicators))\n",
    "    bs_indicators.append(find_fin_indicators(a2,indicators))\n",
    "    fs_growth_indicators.append(find_fin_indicators(a3,indicators))\n",
    "    \n",
    "    fin_indicators = inc_statement_indicators + cash_flow_indicators + bs_indicators + fs_growth_indicators\n",
    "    "
   ]
  },
  {
   "cell_type": "code",
   "execution_count": null,
   "metadata": {},
   "outputs": [],
   "source": []
  }
 ],
 "metadata": {
  "kernelspec": {
   "display_name": "Python 3",
   "language": "python",
   "name": "python3"
  },
  "language_info": {
   "codemirror_mode": {
    "name": "ipython",
    "version": 3
   },
   "file_extension": ".py",
   "mimetype": "text/x-python",
   "name": "python",
   "nbconvert_exporter": "python",
   "pygments_lexer": "ipython3",
   "version": "3.8.5"
  }
 },
 "nbformat": 4,
 "nbformat_minor": 4
}
