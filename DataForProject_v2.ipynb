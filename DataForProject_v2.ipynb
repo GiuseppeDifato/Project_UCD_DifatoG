{
 "cells": [
  {
   "cell_type": "code",
   "execution_count": 30,
   "metadata": {},
   "outputs": [],
   "source": [
    "import urllib as u\n",
    "from urllib.request import urlopen\n",
    "import json\n",
    "import pandas as pd\n",
    "from pandas_datareader import data\n",
    "import numpy as np\n",
    "from tqdm import tqdm\n",
    "\n",
    "api_key='64d94994afb9689c49b660ebe9dee39c'"
   ]
  },
  {
   "cell_type": "code",
   "execution_count": 2,
   "metadata": {},
   "outputs": [],
   "source": [
    "# Function to read in json data from FMP\n",
    "def get_json_data(url):\n",
    "    '''\n",
    "    Scrape data (which must be json format) from given url\n",
    "    Input: url to financialmodelingprep API\n",
    "    Output: json file\n",
    "    '''\n",
    "    response = urlopen(url)\n",
    "    dat = response.read().decode('utf-8')\n",
    "    return json.loads(dat)"
   ]
  },
  {
   "cell_type": "code",
   "execution_count": 3,
   "metadata": {},
   "outputs": [],
   "source": [
    "# Function to get sector of a Stock from its profile json file\n",
    "def find_sector(json):\n",
    "    \n",
    "    for k, v in a.items():\n",
    "        if k == 'symbol':\n",
    "            symbol=v\n",
    "\n",
    "    for k, v in a.items():\n",
    "        if k == 'profile':\n",
    "            profile=v\n",
    "\n",
    "    for k, v in profile.items():\n",
    "        if k == 'sector':\n",
    "            sector=v\n",
    "    return(symbol, sector)"
   ]
  },
  {
   "cell_type": "code",
   "execution_count": 4,
   "metadata": {},
   "outputs": [],
   "source": [
    "# Function to get Year 2019 Financial Indicators from json file\n",
    "def find_fin_indicators(json, indicator):\n",
    "    cat = ['financials','growth','metrics']\n",
    "    \n",
    "    for k, v in json.items():\n",
    "        if k == 'symbol':\n",
    "            symbol=v\n",
    "\n",
    "    for k, v in json.items():\n",
    "        if k in cat:\n",
    "            category = v\n",
    "\n",
    "    indicators_2019 = [[(k,v) for k,v in d.items()] for d in category if d['date'][:4] == '2019'] # Generator creates a list of lists\n",
    "    indicators_2019_list = [item for sublist in indicators_2019 for item in sublist] # Creating a flat list\n",
    "\n",
    "    a = []\n",
    "\n",
    "    for tup in (x for x in indicators_2019_list if x[0] in indicator):\n",
    "        a.append((symbol,) + tup)\n",
    "    return a"
   ]
  },
  {
   "cell_type": "code",
   "execution_count": 5,
   "metadata": {},
   "outputs": [],
   "source": [
    "# Function to get Year 2019 Ratios from json file\n",
    "def find_ratios_indicators(json, indicator):\n",
    "    global ratios, symbol\n",
    "    \n",
    "    for k in json.items():\n",
    "        symbol = json['symbol']\n",
    "    \n",
    "    for k in json.items():\n",
    "        ratios = json['ratios']\n",
    "            \n",
    "    ratios_2019 = [d for d in ratios if d['date'][:4] == '2019']\n",
    "    \n",
    "    unpack1 = ratios_2019[0]['investmentValuationRatios']\n",
    "    unpack2 = ratios_2019[0]['profitabilityIndicatorRatios']\n",
    "    unpack3 = ratios_2019[0]['operatingPerformanceRatios']\n",
    "    unpack4 = ratios_2019[0]['liquidityMeasurementRatios']\n",
    "    unpack5 = ratios_2019[0]['debtRatios']\n",
    "    unpack6 = ratios_2019[0]['cashFlowIndicatorRatios']\n",
    "    \n",
    "    unpack = unpack1\n",
    "    unpack.update(unpack2)\n",
    "    unpack.update(unpack3)\n",
    "    unpack.update(unpack4)\n",
    "    unpack.update(unpack5)\n",
    "    unpack.update(unpack6)\n",
    "    \n",
    "    full_set = []\n",
    "    reduced_set =[]\n",
    "\n",
    "    for row in unpack.items():\n",
    "            full_set.append(row)\n",
    "    \n",
    "    for tup in (x for x in full_set if x[0] in indicator):\n",
    "        reduced_set.append((symbol,) +tup)\n",
    "    \n",
    "    return reduced_set"
   ]
  },
  {
   "cell_type": "code",
   "execution_count": 81,
   "metadata": {},
   "outputs": [],
   "source": [
    "# Function to get the stock's price variation during the year 2020\n",
    "def get_price_var(symbol):\n",
    "\n",
    "    prices = data.DataReader(symbol, 'yahoo', '2020-01-01', '2020-12-31')['Adj Close']\n",
    "\n",
    "    end = prices.index[-1]\n",
    "    start = prices.index[0]\n",
    "\n",
    "    price_var = ((prices[end] / prices[start]) - 1) * 100\n",
    "    return symbol, price_var"
   ]
  },
  {
   "cell_type": "code",
   "execution_count": 6,
   "metadata": {},
   "outputs": [],
   "source": [
    "# Full list of available stocks from FMP\n",
    "url = 'https://financialmodelingprep.com/api/v3/stock/list?apikey=' + api_key\n",
    "ticks_json = get_json_data(url)\n",
    "\n",
    "stocks = pd.DataFrame(ticks_json)\n",
    "stocks = stocks[['symbol','name','exchange']]\n",
    "stocks = stocks.dropna(how='any',subset=['symbol','name','exchange'])"
   ]
  },
  {
   "cell_type": "code",
   "execution_count": 7,
   "metadata": {},
   "outputs": [],
   "source": [
    "# Limit the analysis to stocks of the New York Stock Exchange and Nasdaq Global\n",
    "stocks_nyse = stocks[(stocks['exchange'] == 'Nasdaq Global Select') | (stocks['exchange'] == 'New York Stock Exchange')]\n",
    "\n",
    "# For Testing purposes - To be dropped\n",
    "stocks_nyse = stocks[(stocks['symbol'] == 'AAPL') | (stocks['symbol'] == 'WMT')]\n",
    "\n",
    "stocks_nyse.reset_index(drop=True, inplace=True)\n",
    "tickers_nyse = stocks_nyse['symbol'].tolist()"
   ]
  },
  {
   "cell_type": "code",
   "execution_count": 8,
   "metadata": {},
   "outputs": [
    {
     "name": "stderr",
     "output_type": "stream",
     "text": [
      "100%|██████████| 2/2 [00:01<00:00,  1.53it/s]\n"
     ]
    }
   ],
   "source": [
    "# Get sectors from company profiles\n",
    "tickers_nyse_sector = []\n",
    "\n",
    "for tick in tqdm(tickers_nyse):\n",
    "    url = 'https://financialmodelingprep.com/api/v3/company/profile/' + tick + '?apikey=' + api_key \n",
    "    a = get_json_data(url)\n",
    "    tickers_nyse_sector.append(find_sector(a))"
   ]
  },
  {
   "cell_type": "code",
   "execution_count": 9,
   "metadata": {},
   "outputs": [],
   "source": [
    "tickers_nyse_sector = pd.DataFrame(tickers_nyse_sector)\n",
    "tickers_nyse_sector.columns = ['symbol', 'sector']\n",
    "\n",
    "stocks_nyse = stocks_nyse.merge(tickers_nyse_sector)"
   ]
  },
  {
   "cell_type": "code",
   "execution_count": 10,
   "metadata": {},
   "outputs": [],
   "source": [
    "# Load financial indicators from the provided .txt file\n",
    "indicators = []\n",
    "filename = 'indicators.txt'\n",
    "with open(filename, 'r') as f:\n",
    "    for line in f:\n",
    "        indicators.append(line.strip('\\n'))"
   ]
  },
  {
   "cell_type": "code",
   "execution_count": 11,
   "metadata": {
    "scrolled": true
   },
   "outputs": [
    {
     "name": "stderr",
     "output_type": "stream",
     "text": [
      "100%|██████████| 2/2 [00:10<00:00,  5.49s/it]\n"
     ]
    }
   ],
   "source": [
    "# Get all indicators\n",
    "inc_statement_indicators = []\n",
    "cash_flow_indicators = []\n",
    "bs_indicators = []\n",
    "fs_growth_indicators = []\n",
    "metrics_indicators = []\n",
    "ratios_indicators = []\n",
    "\n",
    "for tick in tqdm(tickers_nyse):\n",
    "    try:\n",
    "        url0 = 'https://financialmodelingprep.com/api/v3/financials/income-statement/' + tick + '?apikey=' + api_key\n",
    "        url1 = 'https://financialmodelingprep.com/api/v3/financials/cash-flow-statement/' + tick + '?apikey=' + api_key\n",
    "        url2 = 'https://financialmodelingprep.com/api/v3/financials/balance-sheet-statement/' + tick + '?apikey=' + api_key\n",
    "        url3 = 'https://financialmodelingprep.com/api/v3/financial-statement-growth/' + tick + '?apikey=' + api_key\n",
    "        url4 = 'https://financialmodelingprep.com/api/v3/company-key-metrics/' + tick + '?apikey=' + api_key\n",
    "        url5 = 'https://financialmodelingprep.com/api/v3/financial-ratios/' + tick + '?apikey=' + api_key\n",
    "        \n",
    "        a0 = get_json_data(url0)\n",
    "        a1 = get_json_data(url1)\n",
    "        a2 = get_json_data(url2)\n",
    "        a3 = get_json_data(url3)\n",
    "        a4 = get_json_data(url4)\n",
    "        a5 = get_json_data(url5)\n",
    "    except:\n",
    "        pass\n",
    "    \n",
    "    inc_statement_indicators.append(find_fin_indicators(a0,indicators))\n",
    "    cash_flow_indicators.append(find_fin_indicators(a1,indicators))\n",
    "    bs_indicators.append(find_fin_indicators(a2,indicators))\n",
    "    fs_growth_indicators.append(find_fin_indicators(a3,indicators))\n",
    "    metrics_indicators.append(find_fin_indicators(a4,indicators))\n",
    "    ratios_indicators.append(find_ratios_indicators(a5,indicators))\n",
    "    \n",
    "    fin_indicators = inc_statement_indicators + cash_flow_indicators + bs_indicators + fs_growth_indicators + metrics_indicators + ratios_indicators\n",
    "    fin_indicators_list = [item for sublist in fin_indicators for item in sublist]"
   ]
  },
  {
   "cell_type": "code",
   "execution_count": 88,
   "metadata": {},
   "outputs": [],
   "source": [
    "# Transform the list of indicators in a DataFrame\n",
    "temp = []\n",
    "for j in fin_indicators_list:\n",
    "    temp.append(j[1])\n",
    "    df = pd.DataFrame(temp)\n",
    "    df.columns = ['variable']\n",
    "    df = df.drop_duplicates()\n",
    "    df.reset_index(drop=True, inplace=True)\n",
    "    \n",
    "temp2 = []\n",
    "for i in tickers_nyse:\n",
    "    for j in fin_indicators_list:\n",
    "        if j[0] == i:\n",
    "            temp2.append(j[2])\n",
    "            df_temp = pd.DataFrame(temp2)\n",
    "            df_temp.columns = [j[0]]\n",
    "            df_temp[j[0]] = df_temp[j[0]].astype(float)\n",
    "    df = df.merge(df_temp, left_index = True, right_index = True)\n",
    "    del df_temp\n",
    "    temp2.clear()"
   ]
  },
  {
   "cell_type": "code",
   "execution_count": 89,
   "metadata": {},
   "outputs": [],
   "source": [
    "# Set Symbol as Index in Stocks List\n",
    "stocks_nyse_labelled = stocks_nyse.set_index('symbol')"
   ]
  },
  {
   "cell_type": "code",
   "execution_count": 90,
   "metadata": {
    "scrolled": true
   },
   "outputs": [],
   "source": [
    "# Set symbol as Index in Dataframe with Indicators\n",
    "df_labelled = df.set_index('variable')\n",
    "df_labelled_trasposed = df_labelled.T\n",
    "df_labelled_trasposed = df_labelled_trasposed.reset_index()\n",
    "data_final = df_labelled_trasposed.rename(columns={'index': 'symbol'})\n",
    "data_final = data_final.set_index('symbol')\n",
    "data_final = data_final.merge(stocks_nyse_labelled['sector'], left_on=['symbol'], right_on=['symbol'])"
   ]
  },
  {
   "cell_type": "code",
   "execution_count": 91,
   "metadata": {},
   "outputs": [],
   "source": [
    "# Get 2020 returns and save results in a DataFrame\n",
    "returns = []\n",
    "for i in tickers_nyse:\n",
    "    returns.append(get_price_var(i))\n",
    "    \n",
    "df_returns = pd.DataFrame(returns)\n",
    "df_returns.columns = ['symbol','return']\n",
    "df_returns = df_returns.set_index('symbol')"
   ]
  },
  {
   "cell_type": "code",
   "execution_count": 92,
   "metadata": {},
   "outputs": [
    {
     "name": "stdout",
     "output_type": "stream",
     "text": [
      "<class 'pandas.core.frame.DataFrame'>\n",
      "Index: 2 entries, AAPL to WMT\n",
      "Data columns (total 15 columns):\n",
      " #   Column               Non-Null Count  Dtype  \n",
      "---  ------               --------------  -----  \n",
      " 0   Revenue Growth       2 non-null      float64\n",
      " 1   EBIT Margin          2 non-null      float64\n",
      " 2   Net Profit Margin    2 non-null      float64\n",
      " 3   Investing Cash flow  2 non-null      float64\n",
      " 4   Dividend payments    2 non-null      float64\n",
      " 5   Total assets         2 non-null      float64\n",
      " 6   Total liabilities    2 non-null      float64\n",
      " 7   Net Income Growth    2 non-null      float64\n",
      " 8   Debt Growth          2 non-null      float64\n",
      " 9   Debt to Equity       2 non-null      float64\n",
      " 10  Payout Ratio         2 non-null      float64\n",
      " 11  returnOnEquity       2 non-null      float64\n",
      " 12  assetTurnover        2 non-null      float64\n",
      " 13  sector               2 non-null      object \n",
      " 14  return               2 non-null      float64\n",
      "dtypes: float64(14), object(1)\n",
      "memory usage: 256.0+ bytes\n"
     ]
    }
   ],
   "source": [
    "# Info on Final Data\n",
    "data_final = data_final.merge(df_returns, left_on=['symbol'], right_on=['symbol'])\n",
    "data_final.info();"
   ]
  },
  {
   "cell_type": "code",
   "execution_count": null,
   "metadata": {},
   "outputs": [],
   "source": []
  }
 ],
 "metadata": {
  "kernelspec": {
   "display_name": "Python 3",
   "language": "python",
   "name": "python3"
  },
  "language_info": {
   "codemirror_mode": {
    "name": "ipython",
    "version": 3
   },
   "file_extension": ".py",
   "mimetype": "text/x-python",
   "name": "python",
   "nbconvert_exporter": "python",
   "pygments_lexer": "ipython3",
   "version": "3.8.5"
  }
 },
 "nbformat": 4,
 "nbformat_minor": 4
}
