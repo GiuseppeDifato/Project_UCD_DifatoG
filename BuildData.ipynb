{
 "cells": [
  {
   "cell_type": "code",
   "execution_count": 1,
   "metadata": {},
   "outputs": [],
   "source": [
    "# Library to read in json files\n",
    "import urllib as u\n",
    "from urllib.request import urlopen\n",
    "import json\n",
    "\n",
    "# Pandas\n",
    "import pandas as pd\n",
    "from pandas_datareader import data\n",
    "\n",
    "# Library used for itemgetter sort\n",
    "import operator\n",
    "\n",
    "# Regex\n",
    "import re as re\n",
    "\n",
    "# Progess Bar\n",
    "from tqdm import tqdm"
   ]
  },
  {
   "cell_type": "markdown",
   "metadata": {},
   "source": [
    "Parameters to be set for data extraction. This will allow possible future re-use of the notebook"
   ]
  },
  {
   "cell_type": "code",
   "execution_count": 2,
   "metadata": {},
   "outputs": [],
   "source": [
    "# Set the following Parameters for Data Extraction\n",
    "api_key='64d94994afb9689c49b660ebe9dee39c'\n",
    "filename_indicators = 'indicators_reduced.txt'\n",
    "annual_info = '2020'\n",
    "price_b_date = '2020-01-01' # No need to set if flag_return is N\n",
    "price_e_date = '2020-12-31' # No need to set if flag_return is N\n",
    "filename_data = 'DATA_RAW_2020'\n",
    "flag_return = 'N'\n",
    "flag_random = 'Y'"
   ]
  },
  {
   "cell_type": "markdown",
   "metadata": {},
   "source": [
    "Below five functions that will be used to scrape the Financial Modelling Prep json files and to read the prices variations from Yahoo."
   ]
  },
  {
   "cell_type": "code",
   "execution_count": 3,
   "metadata": {},
   "outputs": [],
   "source": [
    "# Function to read in json data from FMP\n",
    "def get_json_data(url):\n",
    "    response = urlopen(url)\n",
    "    dat = response.read().decode('utf-8')\n",
    "    return json.loads(dat)"
   ]
  },
  {
   "cell_type": "code",
   "execution_count": 4,
   "metadata": {},
   "outputs": [],
   "source": [
    "# Function to get sector of a Stock from its profile json file\n",
    "def find_sector(json):\n",
    "    \n",
    "    for k, v in a.items():\n",
    "        if k == 'symbol':\n",
    "            symbol=v\n",
    "\n",
    "    for k, v in a.items():\n",
    "        if k == 'profile':\n",
    "            profile=v\n",
    "\n",
    "    for k, v in profile.items():\n",
    "        if k == 'sector':\n",
    "            sector=v\n",
    "    return(symbol, sector)"
   ]
  },
  {
   "cell_type": "code",
   "execution_count": 5,
   "metadata": {},
   "outputs": [],
   "source": [
    "# Function to get Financial Indicators from json file\n",
    "def find_fin_indicators(json, indicator):\n",
    "    cat = ['financials','growth','metrics']\n",
    "    \n",
    "    for k, v in json.items():\n",
    "        if k == 'symbol':\n",
    "            symbol = v\n",
    "\n",
    "    for k, v in json.items():\n",
    "        if k in cat:\n",
    "            category = v\n",
    "\n",
    "    indicators_annual = [[(k,v) for k,v in d.items()] for d in category if d['date'][:4] == annual_info] # Generator creates a list of lists\n",
    "    indicators_annual_list = [item for sublist in indicators_annual for item in sublist] # Creating a flat list\n",
    "\n",
    "    a = []\n",
    "\n",
    "    for tup in (x for x in indicators_annual_list if x[0] in indicator):\n",
    "        a.append((symbol,) + tup)\n",
    "    return a"
   ]
  },
  {
   "cell_type": "code",
   "execution_count": 6,
   "metadata": {},
   "outputs": [],
   "source": [
    "# Function to get Ratios from json file\n",
    "def find_ratios_indicators(json, indicator):\n",
    "    global ratios, symbol\n",
    "    \n",
    "    for k in json.items():\n",
    "        symbol = json['symbol']\n",
    "    \n",
    "    for k in json.items():\n",
    "        ratios = json['ratios']\n",
    "            \n",
    "    \n",
    "    ratios_annual = [d for d in ratios if d['date'][:4] == annual_info]\n",
    "    \n",
    "    unpack1 = ratios_annual[0]['investmentValuationRatios']\n",
    "    unpack2 = ratios_annual[0]['profitabilityIndicatorRatios']\n",
    "    unpack3 = ratios_annual[0]['operatingPerformanceRatios']\n",
    "    unpack4 = ratios_annual[0]['liquidityMeasurementRatios']\n",
    "    unpack5 = ratios_annual[0]['debtRatios']\n",
    "    unpack6 = ratios_annual[0]['cashFlowIndicatorRatios']\n",
    "    \n",
    "    unpack = unpack1\n",
    "    unpack.update(unpack2)\n",
    "    unpack.update(unpack3)\n",
    "    unpack.update(unpack4)\n",
    "    unpack.update(unpack5)\n",
    "    unpack.update(unpack6)\n",
    "    \n",
    "    full_set = []\n",
    "    reduced_set =[]\n",
    "\n",
    "    for row in unpack.items():\n",
    "            full_set.append(row)\n",
    "    \n",
    "    for tup in (x for x in full_set if x[0] in indicator):\n",
    "        reduced_set.append((symbol,) +tup)\n",
    "    \n",
    "    return reduced_set"
   ]
  },
  {
   "cell_type": "code",
   "execution_count": 7,
   "metadata": {},
   "outputs": [],
   "source": [
    "# Function to get the stock's price variation\n",
    "def get_price_var(symbol):\n",
    "\n",
    "    prices = data.DataReader(symbol, 'yahoo', price_b_date, price_e_date)['Adj Close']\n",
    "\n",
    "    end = prices.index[-1]\n",
    "    start = prices.index[0]\n",
    "\n",
    "    price_var = ((prices[end] / prices[start]) - 1) * 100\n",
    "    \n",
    "    return symbol, price_var"
   ]
  },
  {
   "cell_type": "markdown",
   "metadata": {},
   "source": [
    "The following part of the Notebook leverages on Regex to find the urls of the Json Files within a txt file"
   ]
  },
  {
   "cell_type": "code",
   "execution_count": 8,
   "metadata": {},
   "outputs": [],
   "source": [
    "# Leverage on Regex functionalities to retrieve FMP urls\n",
    "with open('urls.txt') as f:\n",
    "    urls = f.readlines()\n",
    "\n",
    "'''List of Stocks'''\n",
    "for i in urls:\n",
    "    if len(re.findall('https.+list',i)) == 0:\n",
    "        continue\n",
    "    else: \n",
    "        list_of_stocks = str(re.findall('https.+list',i)[0])\n",
    "\n",
    "'''Profiles'''\n",
    "for i in urls:\n",
    "    if len(re.findall('https.+profile\\W',i)) == 0:\n",
    "        continue\n",
    "    else: \n",
    "        profiles = str(re.findall('https.+profile\\W',i)[0])\n",
    "        \n",
    "'''Income Statement'''\n",
    "for i in urls:\n",
    "    if len(re.findall('https.+income.\\w+\\W',i)) == 0:\n",
    "        continue\n",
    "    else: \n",
    "        inc_stat = str(re.findall('https.+income.\\w+\\W',i)[0])\n",
    "        \n",
    "'''Cash Flow Statement'''\n",
    "for i in urls:\n",
    "    if len(re.findall('https.+cash-flow.\\w+\\W',i)) == 0:\n",
    "        continue\n",
    "    else: \n",
    "        cf_stat = str(re.findall('https.+cash-flow.\\w+\\W',i)[0])\n",
    "        \n",
    "'''Balance Sheet'''\n",
    "for i in urls:\n",
    "    if len(re.findall('https.+balance-sheet.\\w+\\W',i)) == 0:\n",
    "        continue\n",
    "    else: \n",
    "        bs_stat = str(re.findall('https.+balance-sheet.\\w+\\W',i)[0])\n",
    "        \n",
    "'''Financial Statment Growth'''\n",
    "for i in urls:\n",
    "    if len(re.findall('https.+growth\\W',i)) == 0:\n",
    "        continue\n",
    "    else: \n",
    "        fs_growth = str(re.findall('https.+growth\\W',i)[0])\n",
    "        \n",
    "'''Key Metrics'''\n",
    "for i in urls:\n",
    "    if len(re.findall('https.+metrics\\W',i)) == 0:\n",
    "        continue\n",
    "    else: \n",
    "        key_metrics = str(re.findall('https.+metrics\\W',i)[0])\n",
    "        \n",
    "'''Financial Ratios'''\n",
    "for i in urls:\n",
    "    if len(re.findall('https.+ratios\\W',i)) == 0:\n",
    "        continue\n",
    "    else: \n",
    "        fin_ratios = str(re.findall('https.+ratios\\W',i)[0])"
   ]
  },
  {
   "cell_type": "code",
   "execution_count": 9,
   "metadata": {},
   "outputs": [],
   "source": [
    "# Full list of available stocks from FMP\n",
    "url = list_of_stocks + '?apikey=' + api_key\n",
    "ticks_json = get_json_data(url)\n",
    "\n",
    "stocks = pd.DataFrame(ticks_json)\n",
    "stocks = stocks[['symbol','name','exchange']]\n",
    "stocks = stocks.dropna(how='any',subset=['symbol','name','exchange'])"
   ]
  },
  {
   "cell_type": "code",
   "execution_count": 11,
   "metadata": {},
   "outputs": [],
   "source": [
    "# Limit the analysis to stocks of the Nasdaq Global\n",
    "stocks_nyse = stocks[(stocks['exchange'] == 'Nasdaq Global Select') | (stocks['exchange'] == 'New York Stock Exchange')]\n",
    "\n",
    "if flag_random =='Y':\n",
    "    stocks_nyse = stocks_nyse.sample(100)\n",
    "else:\n",
    "    pass\n",
    "    \n",
    "stocks_nyse.reset_index(drop=True, inplace=True)\n",
    "tickers_nyse = stocks_nyse['symbol'].tolist()"
   ]
  },
  {
   "cell_type": "code",
   "execution_count": 12,
   "metadata": {},
   "outputs": [
    {
     "name": "stderr",
     "output_type": "stream",
     "text": [
      "100%|██████████| 100/100 [01:01<00:00,  1.61it/s]\n"
     ]
    }
   ],
   "source": [
    "# Get sectors from company profiles\n",
    "tickers_nyse_sector = []\n",
    "\n",
    "for tick in tqdm(tickers_nyse):\n",
    "    url = profiles + tick + '?apikey=' + api_key \n",
    "    a = get_json_data(url)\n",
    "    tickers_nyse_sector.append(find_sector(a))"
   ]
  },
  {
   "cell_type": "code",
   "execution_count": 13,
   "metadata": {},
   "outputs": [],
   "source": [
    "tickers_nyse_sector = pd.DataFrame(tickers_nyse_sector)\n",
    "tickers_nyse_sector.columns = ['symbol', 'sector']\n",
    "\n",
    "stocks_nyse = stocks_nyse.merge(tickers_nyse_sector)"
   ]
  },
  {
   "cell_type": "code",
   "execution_count": 14,
   "metadata": {},
   "outputs": [],
   "source": [
    "# Load financial indicators from the provided .txt file\n",
    "indicators = []\n",
    "filename = filename_indicators\n",
    "with open(filename, 'r') as f:\n",
    "    for line in f:\n",
    "        indicators.append(line.strip('\\n'))"
   ]
  },
  {
   "cell_type": "code",
   "execution_count": 15,
   "metadata": {},
   "outputs": [
    {
     "name": "stderr",
     "output_type": "stream",
     "text": [
      "100%|██████████| 100/100 [06:49<00:00,  4.09s/it]\n"
     ]
    }
   ],
   "source": [
    "# Get all annual indicators\n",
    "inc_statement_indicators = []\n",
    "cash_flow_indicators = []\n",
    "bs_indicators = []\n",
    "fs_growth_indicators = []\n",
    "metrics_indicators = []\n",
    "ratios_indicators = []\n",
    "\n",
    "for tick in tqdm(tickers_nyse):\n",
    "    try:\n",
    "        url0 = inc_stat + tick + '?limit=120&apikey=' + api_key\n",
    "        url1 = cf_stat + tick + '?limit=120&apikey=' + api_key\n",
    "        url2 = bs_stat + tick + '?limit=120&apikey=' + api_key\n",
    "        url3 = fs_growth + tick + '?limit=120&apikey=' + api_key\n",
    "        url4 = key_metrics + tick + '?limit=40&apikey=' + api_key\n",
    "        url5 = fin_ratios + tick + '?limit=40&apikey=' + api_key\n",
    "        \n",
    "        a0 = get_json_data(url0)\n",
    "        a1 = get_json_data(url1)\n",
    "        a2 = get_json_data(url2)\n",
    "        a3 = get_json_data(url3)\n",
    "        a4 = get_json_data(url4)\n",
    "        a5 = get_json_data(url5)\n",
    "    except:\n",
    "        pass\n",
    "    \n",
    "    try:\n",
    "        inc_statement_indicators.append(find_fin_indicators(a0,indicators))\n",
    "        cash_flow_indicators.append(find_fin_indicators(a1,indicators))\n",
    "        bs_indicators.append(find_fin_indicators(a2,indicators))\n",
    "        fs_growth_indicators.append(find_fin_indicators(a3,indicators))\n",
    "        metrics_indicators.append(find_fin_indicators(a4,indicators))\n",
    "        ratios_indicators.append(find_ratios_indicators(a5,indicators))\n",
    "    except:\n",
    "        pass\n",
    "    \n",
    "    fin_indicators = inc_statement_indicators + cash_flow_indicators + bs_indicators + fs_growth_indicators + metrics_indicators + ratios_indicators\n",
    "    fin_indicators_list = [item for sublist in fin_indicators for item in sublist]\n",
    "    fin_indicators_list.sort(key = operator.itemgetter(0))"
   ]
  },
  {
   "cell_type": "code",
   "execution_count": 16,
   "metadata": {},
   "outputs": [],
   "source": [
    "# Transform the list of indicators in a DataFrame\n",
    "df_ind = pd.DataFrame(indicators)\n",
    "df_ind.columns = ['variable']"
   ]
  },
  {
   "cell_type": "code",
   "execution_count": 17,
   "metadata": {},
   "outputs": [
    {
     "name": "stderr",
     "output_type": "stream",
     "text": [
      "100%|██████████| 66/66 [00:04<00:00, 14.66it/s]\n"
     ]
    }
   ],
   "source": [
    "# Dataframe by symbol whose indicators were found \n",
    "temp = []\n",
    "df = df_ind\n",
    "\n",
    "tickers_found = []\n",
    "\n",
    "for j in fin_indicators_list:\n",
    "    tickers_found.append(j[0])\n",
    "    \n",
    "tickers_found = pd.DataFrame(tickers_found)\n",
    "tickers_found.columns = ['symbol']\n",
    "tickers_found = tickers_found.drop_duplicates()\n",
    "tickers_found.set_index('symbol')\n",
    "tickers_found = tickers_found['symbol'].to_list()\n",
    "\n",
    "for i in tqdm(tickers_found):\n",
    "    for j in fin_indicators_list:\n",
    "        if j[0] == i:\n",
    "            temp.append(j[2])\n",
    "            df_temp = pd.DataFrame(temp)\n",
    "            df_temp.columns = [j[0]]\n",
    "    df = df.join(df_temp)\n",
    "    del df_temp\n",
    "    temp.clear()"
   ]
  },
  {
   "cell_type": "code",
   "execution_count": 18,
   "metadata": {},
   "outputs": [],
   "source": [
    "# Set Symbol as Index in Stocks List\n",
    "stocks_nyse_labelled = stocks_nyse.set_index('symbol')"
   ]
  },
  {
   "cell_type": "code",
   "execution_count": 19,
   "metadata": {},
   "outputs": [],
   "source": [
    "# Set symbol as Index in Dataframe with Indicators\n",
    "df_labelled = df.set_index('variable')\n",
    "df_labelled_trasposed = df_labelled.T\n",
    "df_labelled_trasposed = df_labelled_trasposed.reset_index()\n",
    "data_final = df_labelled_trasposed.rename(columns={'index': 'symbol'})\n",
    "data_final = data_final.set_index('symbol')\n",
    "data_final = data_final.merge(stocks_nyse_labelled['sector'], left_on=['symbol'], right_on=['symbol'])"
   ]
  },
  {
   "cell_type": "code",
   "execution_count": 20,
   "metadata": {},
   "outputs": [
    {
     "name": "stderr",
     "output_type": "stream",
     "text": [
      "100%|██████████| 100/100 [02:31<00:00,  1.52s/it]\n"
     ]
    }
   ],
   "source": [
    "# Get returns and save results in a DataFrame\n",
    "if flag_return =='Y':\n",
    "    returns = []\n",
    "\n",
    "    for i in tqdm(tickers_nyse):\n",
    "        try:\n",
    "            returns.append(get_price_var(i))\n",
    "        except:\n",
    "            pass\n",
    "\n",
    "    df_returns = pd.DataFrame(returns)\n",
    "    df_returns.columns = ['symbol','return']\n",
    "    df_returns = df_returns.set_index('symbol')\n",
    "else:\n",
    "    pass"
   ]
  },
  {
   "cell_type": "code",
   "execution_count": 21,
   "metadata": {},
   "outputs": [],
   "source": [
    "# DataFrame merge with Returns and write final data into .csv\n",
    "if flag_return =='Y':\n",
    "    data_raw = data_final.merge(df_returns, left_on=['symbol'], right_on=['symbol'])\n",
    "else:\n",
    "    data_raw = data_final \n",
    "\n",
    "data_raw.to_csv(filename_data + '.csv')"
   ]
  }
 ],
 "metadata": {
  "kernelspec": {
   "display_name": "Python 3",
   "language": "python",
   "name": "python3"
  },
  "language_info": {
   "codemirror_mode": {
    "name": "ipython",
    "version": 3
   },
   "file_extension": ".py",
   "mimetype": "text/x-python",
   "name": "python",
   "nbconvert_exporter": "python",
   "pygments_lexer": "ipython3",
   "version": "3.8.5"
  }
 },
 "nbformat": 4,
 "nbformat_minor": 4
}
